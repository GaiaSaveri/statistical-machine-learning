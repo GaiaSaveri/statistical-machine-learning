{
 "cells": [
  {
   "cell_type": "markdown",
   "metadata": {},
   "source": [
    "## Homework 02"
   ]
  },
  {
   "cell_type": "markdown",
   "metadata": {},
   "source": [
    "### Exercise 1\n",
    "One half percent of the population has a coronavirus and a test is being developed. This test gives a false positive $3\\%$ of the time and a false negative $2\\%$ of the time. \n",
    "\n",
    "1. Find the probability that Luca is positive to the test.\n",
    "2. Suppose Luca is positive to the test. What is the probability that he has contracted the disease?"
   ]
  },
  {
   "cell_type": "markdown",
   "metadata": {},
   "source": [
    "#### Proposed solution:\n",
    "Consider two random variables: $S\\in \\{0,1\\}$, which is 1 if a person has the coronavirus, 0 if he/she doesn't; $T\\in \\{POS, NEG\\}$ which is POS if the test gives positive, NEG if it gives negative.\n",
    "\n",
    "From the exercise we can say that: $P(S = 1) = 0.005$ (hence $P(S = 0) = 0.995$), moreover we have that $P(T = NEG|S = 1) = 0.02$ (false negative rate) and $P(T = POS|S = 0) = 0.03$ (false positive rate).\n",
    "\n",
    "1. we have to compute the following marginalization: \n",
    "\n",
    "$P(T = POS) = \\sum_{S\\in \\{0,1\\}} P(T = POS | S)\\cdot P(S) = P(T = POS|S = 0)\\cdot P(S = 0) + P(T = POS|S = 1)\\cdot P(S = 1)$\n",
    "\n",
    "Since T is a binary variable, from the law of total probability it must be that $P(T = POS|S = 1) = 1 - P(T = NEG| S = 1) = 1 - 0.02 = 0.98$.\n",
    "\n",
    "Now we have all the information we need and we plug into the formula:\n",
    "\n",
    "$P(T = POS) = 0.03\\cdot 0.995 + 0.98\\cdot 0.005 = 0.03475$\n",
    "\n",
    "2. we need to compute $P(S = 1|T = POS)$, so we can use the Bayes theorem: \n",
    "\n",
    "$P(S = 1|T = POS) = \\frac{P(T = POS|S = 1)\\cdot P(S = 1)}{P(T = POS)} = \\frac{0.98\\cdot 0.005}{0.03475} = 0.141$\n"
   ]
  },
  {
   "cell_type": "markdown",
   "metadata": {},
   "source": [
    "### Exercise 2\n",
    "\n",
    "Implement the empirical cumulative distribution function $F_X(x)=$ `cdf(dist, x)` taking as inputs a `pyro.distributions` object `dist`, corresponding to the distribution of $X$, and real value `x`.\n",
    "\n",
    "Suppose that $X\\sim \\mathcal{N}(0,1)$ and plot $F_X(x=1)$."
   ]
  },
  {
   "cell_type": "markdown",
   "metadata": {},
   "source": [
    "#### Proposed solution:"
   ]
  },
  {
   "cell_type": "code",
   "execution_count": 2,
   "metadata": {},
   "outputs": [
    {
     "ename": "AttributeError",
     "evalue": "module 'matplotlib' has no attribute 'get_data_path'",
     "output_type": "error",
     "traceback": [
      "\u001b[0;31m------------------------------------------------------------------\u001b[0m",
      "\u001b[0;31mAttributeError\u001b[0m                   Traceback (most recent call last)",
      "\u001b[0;32m<ipython-input-2-6ae28dcfbbb5>\u001b[0m in \u001b[0;36m<module>\u001b[0;34m\u001b[0m\n\u001b[1;32m      1\u001b[0m \u001b[0;32mimport\u001b[0m \u001b[0mtorch\u001b[0m\u001b[0;34m\u001b[0m\u001b[0;34m\u001b[0m\u001b[0m\n\u001b[1;32m      2\u001b[0m \u001b[0;32mimport\u001b[0m \u001b[0mpyro\u001b[0m\u001b[0;34m\u001b[0m\u001b[0;34m\u001b[0m\u001b[0m\n\u001b[0;32m----> 3\u001b[0;31m \u001b[0;32mimport\u001b[0m \u001b[0mmatplotlib\u001b[0m\u001b[0;34m.\u001b[0m\u001b[0mpyplot\u001b[0m \u001b[0;32mas\u001b[0m \u001b[0mplt\u001b[0m\u001b[0;34m\u001b[0m\u001b[0;34m\u001b[0m\u001b[0m\n\u001b[0m\u001b[1;32m      4\u001b[0m \u001b[0;32mimport\u001b[0m \u001b[0mnumpy\u001b[0m \u001b[0;32mas\u001b[0m \u001b[0mnp\u001b[0m\u001b[0;34m\u001b[0m\u001b[0;34m\u001b[0m\u001b[0m\n\u001b[1;32m      5\u001b[0m \u001b[0;34m\u001b[0m\u001b[0m\n",
      "\u001b[0;32m~/Library/Python/3.7/lib/python/site-packages/matplotlib/pyplot.py\u001b[0m in \u001b[0;36m<module>\u001b[0;34m\u001b[0m\n\u001b[1;32m     30\u001b[0m \u001b[0;32mfrom\u001b[0m \u001b[0mcycler\u001b[0m \u001b[0;32mimport\u001b[0m \u001b[0mcycler\u001b[0m\u001b[0;34m\u001b[0m\u001b[0;34m\u001b[0m\u001b[0m\n\u001b[1;32m     31\u001b[0m \u001b[0;32mimport\u001b[0m \u001b[0mmatplotlib\u001b[0m\u001b[0;34m\u001b[0m\u001b[0;34m\u001b[0m\u001b[0m\n\u001b[0;32m---> 32\u001b[0;31m \u001b[0;32mimport\u001b[0m \u001b[0mmatplotlib\u001b[0m\u001b[0;34m.\u001b[0m\u001b[0mcolorbar\u001b[0m\u001b[0;34m\u001b[0m\u001b[0;34m\u001b[0m\u001b[0m\n\u001b[0m\u001b[1;32m     33\u001b[0m \u001b[0;32mimport\u001b[0m \u001b[0mmatplotlib\u001b[0m\u001b[0;34m.\u001b[0m\u001b[0mimage\u001b[0m\u001b[0;34m\u001b[0m\u001b[0;34m\u001b[0m\u001b[0m\n\u001b[1;32m     34\u001b[0m \u001b[0;32mfrom\u001b[0m \u001b[0mmatplotlib\u001b[0m \u001b[0;32mimport\u001b[0m \u001b[0mrcsetup\u001b[0m\u001b[0;34m,\u001b[0m \u001b[0mstyle\u001b[0m\u001b[0;34m\u001b[0m\u001b[0;34m\u001b[0m\u001b[0m\n",
      "\u001b[0;32m~/Library/Python/3.7/lib/python/site-packages/matplotlib/colorbar.py\u001b[0m in \u001b[0;36m<module>\u001b[0;34m\u001b[0m\n\u001b[1;32m     29\u001b[0m \u001b[0;32mimport\u001b[0m \u001b[0mmatplotlib\u001b[0m\u001b[0;34m.\u001b[0m\u001b[0mcollections\u001b[0m \u001b[0;32mas\u001b[0m \u001b[0mcollections\u001b[0m\u001b[0;34m\u001b[0m\u001b[0;34m\u001b[0m\u001b[0m\n\u001b[1;32m     30\u001b[0m \u001b[0;32mimport\u001b[0m \u001b[0mmatplotlib\u001b[0m\u001b[0;34m.\u001b[0m\u001b[0mcolors\u001b[0m \u001b[0;32mas\u001b[0m \u001b[0mcolors\u001b[0m\u001b[0;34m\u001b[0m\u001b[0;34m\u001b[0m\u001b[0m\n\u001b[0;32m---> 31\u001b[0;31m \u001b[0;32mimport\u001b[0m \u001b[0mmatplotlib\u001b[0m\u001b[0;34m.\u001b[0m\u001b[0mcontour\u001b[0m \u001b[0;32mas\u001b[0m \u001b[0mcontour\u001b[0m\u001b[0;34m\u001b[0m\u001b[0;34m\u001b[0m\u001b[0m\n\u001b[0m\u001b[1;32m     32\u001b[0m \u001b[0;32mimport\u001b[0m \u001b[0mmatplotlib\u001b[0m\u001b[0;34m.\u001b[0m\u001b[0mcm\u001b[0m \u001b[0;32mas\u001b[0m \u001b[0mcm\u001b[0m\u001b[0;34m\u001b[0m\u001b[0;34m\u001b[0m\u001b[0m\n\u001b[1;32m     33\u001b[0m \u001b[0;32mimport\u001b[0m \u001b[0mmatplotlib\u001b[0m\u001b[0;34m.\u001b[0m\u001b[0mgridspec\u001b[0m \u001b[0;32mas\u001b[0m \u001b[0mgridspec\u001b[0m\u001b[0;34m\u001b[0m\u001b[0;34m\u001b[0m\u001b[0m\n",
      "\u001b[0;32m~/Library/Python/3.7/lib/python/site-packages/matplotlib/contour.py\u001b[0m in \u001b[0;36m<module>\u001b[0;34m\u001b[0m\n\u001b[1;32m     15\u001b[0m \u001b[0;32mimport\u001b[0m \u001b[0mmatplotlib\u001b[0m\u001b[0;34m.\u001b[0m\u001b[0mcollections\u001b[0m \u001b[0;32mas\u001b[0m \u001b[0mmcoll\u001b[0m\u001b[0;34m\u001b[0m\u001b[0;34m\u001b[0m\u001b[0m\n\u001b[1;32m     16\u001b[0m \u001b[0;32mimport\u001b[0m \u001b[0mmatplotlib\u001b[0m\u001b[0;34m.\u001b[0m\u001b[0mfont_manager\u001b[0m \u001b[0;32mas\u001b[0m \u001b[0mfont_manager\u001b[0m\u001b[0;34m\u001b[0m\u001b[0;34m\u001b[0m\u001b[0m\n\u001b[0;32m---> 17\u001b[0;31m \u001b[0;32mimport\u001b[0m \u001b[0mmatplotlib\u001b[0m\u001b[0;34m.\u001b[0m\u001b[0mtext\u001b[0m \u001b[0;32mas\u001b[0m \u001b[0mtext\u001b[0m\u001b[0;34m\u001b[0m\u001b[0;34m\u001b[0m\u001b[0m\n\u001b[0m\u001b[1;32m     18\u001b[0m \u001b[0;32mimport\u001b[0m \u001b[0mmatplotlib\u001b[0m\u001b[0;34m.\u001b[0m\u001b[0mcbook\u001b[0m \u001b[0;32mas\u001b[0m \u001b[0mcbook\u001b[0m\u001b[0;34m\u001b[0m\u001b[0;34m\u001b[0m\u001b[0m\n\u001b[1;32m     19\u001b[0m \u001b[0;32mimport\u001b[0m \u001b[0mmatplotlib\u001b[0m\u001b[0;34m.\u001b[0m\u001b[0mmathtext\u001b[0m \u001b[0;32mas\u001b[0m \u001b[0mmathtext\u001b[0m\u001b[0;34m\u001b[0m\u001b[0;34m\u001b[0m\u001b[0m\n",
      "\u001b[0;32m~/Library/Python/3.7/lib/python/site-packages/matplotlib/text.py\u001b[0m in \u001b[0;36m<module>\u001b[0;34m\u001b[0m\n\u001b[1;32m     15\u001b[0m \u001b[0;32mfrom\u001b[0m \u001b[0;34m.\u001b[0m\u001b[0mlines\u001b[0m \u001b[0;32mimport\u001b[0m \u001b[0mLine2D\u001b[0m\u001b[0;34m\u001b[0m\u001b[0;34m\u001b[0m\u001b[0m\n\u001b[1;32m     16\u001b[0m \u001b[0;32mfrom\u001b[0m \u001b[0;34m.\u001b[0m\u001b[0mpatches\u001b[0m \u001b[0;32mimport\u001b[0m \u001b[0mFancyArrowPatch\u001b[0m\u001b[0;34m,\u001b[0m \u001b[0mFancyBboxPatch\u001b[0m\u001b[0;34m,\u001b[0m \u001b[0mRectangle\u001b[0m\u001b[0;34m\u001b[0m\u001b[0;34m\u001b[0m\u001b[0m\n\u001b[0;32m---> 17\u001b[0;31m \u001b[0;32mfrom\u001b[0m \u001b[0;34m.\u001b[0m\u001b[0mtextpath\u001b[0m \u001b[0;32mimport\u001b[0m \u001b[0mTextPath\u001b[0m  \u001b[0;31m# Unused, but imported by others.\u001b[0m\u001b[0;34m\u001b[0m\u001b[0;34m\u001b[0m\u001b[0m\n\u001b[0m\u001b[1;32m     18\u001b[0m from .transforms import (\n\u001b[1;32m     19\u001b[0m     Affine2D, Bbox, BboxBase, BboxTransformTo, IdentityTransform, Transform)\n",
      "\u001b[0;32m~/Library/Python/3.7/lib/python/site-packages/matplotlib/textpath.py\u001b[0m in \u001b[0;36m<module>\u001b[0;34m\u001b[0m\n\u001b[1;32m      9\u001b[0m \u001b[0;32mfrom\u001b[0m \u001b[0mmatplotlib\u001b[0m\u001b[0;34m.\u001b[0m\u001b[0mfont_manager\u001b[0m \u001b[0;32mimport\u001b[0m \u001b[0mFontProperties\u001b[0m\u001b[0;34m,\u001b[0m \u001b[0mget_font\u001b[0m\u001b[0;34m\u001b[0m\u001b[0;34m\u001b[0m\u001b[0m\n\u001b[1;32m     10\u001b[0m \u001b[0;32mfrom\u001b[0m \u001b[0mmatplotlib\u001b[0m\u001b[0;34m.\u001b[0m\u001b[0mft2font\u001b[0m \u001b[0;32mimport\u001b[0m \u001b[0mLOAD_NO_HINTING\u001b[0m\u001b[0;34m,\u001b[0m \u001b[0mLOAD_TARGET_LIGHT\u001b[0m\u001b[0;34m\u001b[0m\u001b[0;34m\u001b[0m\u001b[0m\n\u001b[0;32m---> 11\u001b[0;31m \u001b[0;32mfrom\u001b[0m \u001b[0mmatplotlib\u001b[0m\u001b[0;34m.\u001b[0m\u001b[0mmathtext\u001b[0m \u001b[0;32mimport\u001b[0m \u001b[0mMathTextParser\u001b[0m\u001b[0;34m\u001b[0m\u001b[0;34m\u001b[0m\u001b[0m\n\u001b[0m\u001b[1;32m     12\u001b[0m \u001b[0;32mfrom\u001b[0m \u001b[0mmatplotlib\u001b[0m\u001b[0;34m.\u001b[0m\u001b[0mpath\u001b[0m \u001b[0;32mimport\u001b[0m \u001b[0mPath\u001b[0m\u001b[0;34m\u001b[0m\u001b[0;34m\u001b[0m\u001b[0m\n\u001b[1;32m     13\u001b[0m \u001b[0;32mfrom\u001b[0m \u001b[0mmatplotlib\u001b[0m\u001b[0;34m.\u001b[0m\u001b[0mtransforms\u001b[0m \u001b[0;32mimport\u001b[0m \u001b[0mAffine2D\u001b[0m\u001b[0;34m\u001b[0m\u001b[0;34m\u001b[0m\u001b[0m\n",
      "\u001b[0;32m~/Library/Python/3.7/lib/python/site-packages/matplotlib/mathtext.py\u001b[0m in \u001b[0;36m<module>\u001b[0;34m\u001b[0m\n\u001b[1;32m   1057\u001b[0m \u001b[0;34m\u001b[0m\u001b[0m\n\u001b[1;32m   1058\u001b[0m \u001b[0;34m\u001b[0m\u001b[0m\n\u001b[0;32m-> 1059\u001b[0;31m \u001b[0;32mclass\u001b[0m \u001b[0mStandardPsFonts\u001b[0m\u001b[0;34m(\u001b[0m\u001b[0mFonts\u001b[0m\u001b[0;34m)\u001b[0m\u001b[0;34m:\u001b[0m\u001b[0;34m\u001b[0m\u001b[0;34m\u001b[0m\u001b[0m\n\u001b[0m\u001b[1;32m   1060\u001b[0m     \"\"\"\n\u001b[1;32m   1061\u001b[0m     \u001b[0mUse\u001b[0m \u001b[0mthe\u001b[0m \u001b[0mstandard\u001b[0m \u001b[0mpostscript\u001b[0m \u001b[0mfonts\u001b[0m \u001b[0;32mfor\u001b[0m \u001b[0mrendering\u001b[0m \u001b[0mto\u001b[0m \u001b[0mbackend_ps\u001b[0m\u001b[0;34m\u001b[0m\u001b[0;34m\u001b[0m\u001b[0m\n",
      "\u001b[0;32m~/Library/Python/3.7/lib/python/site-packages/matplotlib/mathtext.py\u001b[0m in \u001b[0;36mStandardPsFonts\u001b[0;34m()\u001b[0m\n\u001b[1;32m   1064\u001b[0m     \u001b[0mone\u001b[0m \u001b[0mrequires\u001b[0m \u001b[0mthe\u001b[0m \u001b[0mPs\u001b[0m \u001b[0mbackend\u001b[0m\u001b[0;34m.\u001b[0m\u001b[0;34m\u001b[0m\u001b[0;34m\u001b[0m\u001b[0m\n\u001b[1;32m   1065\u001b[0m     \"\"\"\n\u001b[0;32m-> 1066\u001b[0;31m     \u001b[0mbasepath\u001b[0m \u001b[0;34m=\u001b[0m \u001b[0mstr\u001b[0m\u001b[0;34m(\u001b[0m\u001b[0mcbook\u001b[0m\u001b[0;34m.\u001b[0m\u001b[0m_get_data_path\u001b[0m\u001b[0;34m(\u001b[0m\u001b[0;34m'fonts/afm'\u001b[0m\u001b[0;34m)\u001b[0m\u001b[0;34m)\u001b[0m\u001b[0;34m\u001b[0m\u001b[0;34m\u001b[0m\u001b[0m\n\u001b[0m\u001b[1;32m   1067\u001b[0m \u001b[0;34m\u001b[0m\u001b[0m\n\u001b[1;32m   1068\u001b[0m     fontmap = {\n",
      "\u001b[0;32m~/Library/Python/3.7/lib/python/site-packages/matplotlib/cbook/__init__.py\u001b[0m in \u001b[0;36m_get_data_path\u001b[0;34m(*args)\u001b[0m\n\u001b[1;32m    459\u001b[0m     \u001b[0;31m`\u001b[0m\u001b[0;31m`\u001b[0m\u001b[0;34m*\u001b[0m\u001b[0margs\u001b[0m\u001b[0;31m`\u001b[0m\u001b[0;31m`\u001b[0m \u001b[0mspecify\u001b[0m \u001b[0ma\u001b[0m \u001b[0mpath\u001b[0m \u001b[0mrelative\u001b[0m \u001b[0mto\u001b[0m \u001b[0mthe\u001b[0m \u001b[0mbase\u001b[0m \u001b[0mdata\u001b[0m \u001b[0mpath\u001b[0m\u001b[0;34m.\u001b[0m\u001b[0;34m\u001b[0m\u001b[0;34m\u001b[0m\u001b[0m\n\u001b[1;32m    460\u001b[0m     \"\"\"\n\u001b[0;32m--> 461\u001b[0;31m     \u001b[0;32mreturn\u001b[0m \u001b[0mPath\u001b[0m\u001b[0;34m(\u001b[0m\u001b[0mmatplotlib\u001b[0m\u001b[0;34m.\u001b[0m\u001b[0mget_data_path\u001b[0m\u001b[0;34m(\u001b[0m\u001b[0;34m)\u001b[0m\u001b[0;34m,\u001b[0m \u001b[0;34m*\u001b[0m\u001b[0margs\u001b[0m\u001b[0;34m)\u001b[0m\u001b[0;34m\u001b[0m\u001b[0;34m\u001b[0m\u001b[0m\n\u001b[0m\u001b[1;32m    462\u001b[0m \u001b[0;34m\u001b[0m\u001b[0m\n\u001b[1;32m    463\u001b[0m \u001b[0;34m\u001b[0m\u001b[0m\n",
      "\u001b[0;31mAttributeError\u001b[0m: module 'matplotlib' has no attribute 'get_data_path'"
     ]
    }
   ],
   "source": [
    "import torch\n",
    "import pyro\n",
    "import matplotlib.pyplot as plt\n",
    "import numpy as np\n",
    "\n",
    "loc = 0.\n",
    "scale = 1. \n",
    "\n",
    "dist = pyro.distributions.Normal(loc, scale) #distribution of X ≈ N(0,1)\n",
    "\n",
    "#trying the pyro tools, to see how they work and to check my function\n",
    "x1 = torch.linspace(-3.5,1)\n",
    "f = dist.cdf(x1)\n",
    "\n",
    "def cdf(dist, x):\n",
    "    '''\n",
    "    empirical cumulative distribution function\n",
    "    '''\n",
    "    sample = [pyro.sample(\"normal_sample\", dist) for i in range(1000)]\n",
    "    s = np.sort(sample) \n",
    "    sx = [] \n",
    "    for i in s:\n",
    "        if i<x:\n",
    "            sx.append(i) #sorted since s sorted\n",
    "    #using arange which returns an evenly spaced array in the given range\n",
    "    y = np.arange(1, len(sx)+1)/len(s)\n",
    "    return sx, y\n",
    "\n",
    "#test and plots\n",
    "x = 1.\n",
    "sx, f_x = cdf(dist, x)\n",
    "\n",
    "plt.plot(x1, f, label = \"exact\")\n",
    "plt.plot(sx, f_x, label = \"empirical\")\n",
    "plt.xlabel(\"x\")\n",
    "plt.ylabel(\"cdf(x)\")\n",
    "plt.title(\"Empirical CDF of a standard normal distribution\")\n",
    "plt.legend()\n",
    "plt.show()"
   ]
  },
  {
   "cell_type": "markdown",
   "metadata": {},
   "source": [
    "### Exercise 3\n",
    "\n",
    "Suppose the heights of male students are normally distributed with mean $180$ and unknown variance $\\sigma^2$. Suppose that $\\sigma^2$ is in the range $[22,41]$ with approximately $95\\%$ probability and assign to $\\sigma^2$ an inverse-gamma $IG(38,1110)$ prior distribution .\n",
    "\n",
    "1. Empirically verify that the parameters of the inverse-gamma distribution lead to a prior probability of approximately $95\\%$ that  $\\sigma^2\\in[22,41]$.\n",
    "2. Derive the posterior density of $\\sigma^2$ corresponding to the following data: $183, 173, 181, 170, 176, 180, 187, 176, 171, 190, 184, 173, 176, 179, 181, 186$.\n",
    "Then plot it together with the prior density.\n",
    "3. Compute the posterior density of the standard deviation $\\sigma$."
   ]
  },
  {
   "cell_type": "markdown",
   "metadata": {},
   "source": [
    "#### Proposed solution: "
   ]
  },
  {
   "cell_type": "code",
   "execution_count": null,
   "metadata": {},
   "outputs": [],
   "source": [
    "import seaborn as sns\n",
    "alpha = 38.\n",
    "beta = 1110.\n",
    "sigma_prior = pyro.distributions.InverseGamma(alpha, beta)\n",
    "\n",
    "#1: verify that sigma is in [a,b] = [22,41] with ≈ 95% probability\n",
    "\n",
    "a = 22.\n",
    "b = 41.\n",
    "\n",
    "sample_prior = [pyro.sample(\"normal_sample\", sigma_prior) for i in range(1000)]\n",
    "s = []\n",
    "for i in sample_prior:\n",
    "    if i>=a and i<=b:\n",
    "        s.append(i)\n",
    "prop = (len(s)*100)/len(sample_prior)\n",
    "print(\"sigma in [22,41] with estimated probability (using sample): \", prop)\n",
    "\n",
    "#we can show the same using the function defined in the previous exercise\n",
    "sa, sigma_cdf_a = cdf(sigma_prior, a)\n",
    "sb, sigma_cdf_b = cdf(sigma_prior, b)\n",
    "\n",
    "prop_cdf = sigma_cdf_b[-1].item() - sigma_cdf_a[-1].item()\n",
    "print(\"sigma in [22,41] with estimated probability (using cdf): \", prop_cdf)\n",
    "\n",
    "#2: derived posterior density of sigma^2 using some observation\n",
    "loc = 180.\n",
    "#these data come from a normal distribution N(180, sigma^2) (likelihood)\n",
    "data = [183,173,181,170,176,180,187,176,171,190,184,173,176,179,181,186]\n",
    "\n",
    "#from data we can estimate the sample variance and the sample mean\n",
    "def sample_mean(data):\n",
    "    s_mean = 0\n",
    "    for d in data:\n",
    "        s_mean+=d\n",
    "    s_mean /= len(data)\n",
    "    return s_mean\n",
    "\n",
    "def sample_variance(data):\n",
    "    s_mean = sample_mean(data)\n",
    "    s_var = 0\n",
    "    for d in data:\n",
    "        s_var+=((d - s_mean)**2)\n",
    "    s_var /= (len(data)-1)\n",
    "    return s_var\n",
    "\n",
    "scale = sample_variance(data)\n",
    "likelihood = pyro.distributions.Normal(loc, scale)\n",
    "\n",
    "sample_likelihood = [pyro.sample(\"normal_sample\", likelihood) for i in range(1000)]\n",
    "\n",
    "\n",
    "estimated_posterior_unscaled = []\n",
    "for i in range(0,len(sample_prior)): #Bayes theorem\n",
    "    estimated_posterior_unscaled.append(sample_likelihood[i]*sample_prior[i])\n",
    "    \n",
    "#now we need to scale the estimated_posterior --> compute the normalization factor\n",
    "#we can use the function (slightly adapted) defined in notebook 2\n",
    "def scale(guess):\n",
    "    height = pyro.sample(\"weight\", pyro.distributions.Normal(guess, 1.0))\n",
    "    measurement = [pyro.sample(\"measurement\", pyro.distributions.Normal(height, 0.75)) for i in range(1000)]\n",
    "    return measurement\n",
    "\n",
    "norm_factor = scale(sample_mean(data))\n",
    "estimated_posterior = []\n",
    "for i in range(len(estimated_posterior_unscaled)):\n",
    "    estimated_posterior.append(estimated_posterior_unscaled[i]/norm_factor[i])\n",
    "sns.distplot(estimated_posterior,  kde_kws={\"label\": \"posterior\"})\n",
    "sns.distplot(sample_prior, kde_kws={\"label\": \"prior\"})\n"
   ]
  },
  {
   "cell_type": "markdown",
   "metadata": {},
   "source": [
    "3. posterior density of $\\sigma$\n",
    "\n",
    "We have that the likelihood is: $p(x|\\mu, \\sigma^2) = \\frac{1}{\\sqrt{2\\pi \\sigma^2}}\\cdot e^{-\\frac{(x-\\mu)^2}{2 \\sigma^2}} $, namely $\\mathcal{N}(\\mu, \\sigma^2)$, with known mean $\\mu$.\n",
    "\n",
    "While the prior is: $p(\\sigma^2) = \\frac{\\beta^{\\alpha}}{\\Gamma(\\alpha)}\\cdot (\\sigma^2)^{-(\\alpha + 1)}\\cdot e^{-\\frac{\\beta}{\\sigma^2}}$, namely a $IG(\\alpha, \\beta)$, with both parameter known\n",
    "\n",
    "The posterior $p(\\sigma^2|x, \\mu)$ is such that $p(\\sigma^2|x, \\mu)\\propto p(x|\\mu, \\sigma^2)\\cdot p(\\sigma^2)$.\n",
    "Compute the right hand side of the previous expression, ignoring - for the moment - constants wrt $\\sigma^2$.\n",
    "\n",
    "$(\\sigma^2)^{-\\frac{1}{2}}\\cdot e^{-\\frac{1}{\\sigma^2}\\cdot \\frac{(x-\\mu)^2}{2}}\\cdot (\\sigma^2)^{-(\\alpha+1)}\\cdot e^{-\\frac{\\beta}{\\sigma^2}} = (\\sigma^2)^{-(\\alpha+\\frac{1}{2}+1)}\\cdot e^{-\\frac{1}{\\sigma^2}\\cdot (\\beta + \\frac{(x-\\mu)^2}{2})}$\n",
    " \n",
    "We obtained an $IG(\\alpha+\\frac{1}{2}, \\beta+\\frac{(x-\\mu)^2}{2})$. \n",
    "\n",
    "We plug this new parameters into the previously ignored constants, and putting all together we get the posterior:\n",
    "\n",
    "$p(\\sigma^2|x,\\mu) =\\frac{((\\beta + \\frac{(x-\\mu)^2}{2}))^{\\alpha + \\frac{1}{2}}}{\\Gamma(\\alpha+\\frac{1}{2})} (\\sigma^2)^{-(\\alpha+\\frac{1}{2}+1)}\\cdot e^{-\\frac{1}{\\sigma^2}\\cdot (\\beta + \\frac{(x-\\mu)^2}{2})}$\n",
    "\n",
    "Since we also know that $\\alpha = 38, \\ \\beta = 1110, \\ \\mu = 180$, we can further substitute, getting the posterior density of $\\sigma$:\n",
    "\n",
    "$p(\\sigma|x) = \\frac{((1110 + \\frac{(x-180)^2}{2}))^{38.5}}{\\Gamma(38.5)} (\\sigma^2)^{-39.5}\\cdot e^{-\\frac{1}{\\sigma^2}\\cdot (1110 + \\frac{(x-180)^2}{2})}$"
   ]
  },
  {
   "cell_type": "markdown",
   "metadata": {},
   "source": [
    "### Exercise 4\n",
    "\n",
    "Prove that the Gamma distribution is the conjugate prior distribution for the Exponential likelihood."
   ]
  },
  {
   "cell_type": "markdown",
   "metadata": {},
   "source": [
    "#### Proposed solution:\n",
    "\n",
    "Consider an exponential likelihood: $p(x|\\lambda) = \\lambda\\cdot e^{-\\lambda\\cdot x}$, and a Gamma prior $p(\\lambda) = \\frac{\\beta^{\\alpha}}{\\Gamma(\\alpha)}\\cdot \\lambda^{\\alpha-1}\\cdot e^{-\\beta\\cdot \\lambda}$.\n",
    "\n",
    "From Bayes theorem we have that the posterior $p(\\lambda|x)\\propto p(x|\\lambda)\\cdot p(\\lambda)$.\n",
    "\n",
    "We compute the right hand side of the previous expression ignoring the constants wrt $\\lambda$:\n",
    "\n",
    "$\\lambda\\cdot e^{-\\lambda\\cdot x}\\cdot \\lambda^{\\alpha-1}\\cdot e^{-\\beta\\cdot \\lambda} = \\lambda^{\\alpha}\\cdot e^{-\\lambda\\cdot (\\beta + x)}$ which is a $Gamma(\\alpha+1, \\beta+x)$.\n",
    "\n",
    "Hence the Gamma distribution is the conjugate prior distribution for the Exponential likelihood."
   ]
  }
 ],
 "metadata": {
  "kernelspec": {
   "display_name": "Python 3",
   "language": "python",
   "name": "python3"
  },
  "language_info": {
   "codemirror_mode": {
    "name": "ipython",
    "version": 3
   },
   "file_extension": ".py",
   "mimetype": "text/x-python",
   "name": "python",
   "nbconvert_exporter": "python",
   "pygments_lexer": "ipython3",
   "version": "3.7.3"
  }
 },
 "nbformat": 4,
 "nbformat_minor": 2
}
