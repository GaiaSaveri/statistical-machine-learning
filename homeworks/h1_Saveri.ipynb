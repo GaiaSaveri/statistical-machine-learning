{
 "cells": [
  {
   "cell_type": "markdown",
   "metadata": {},
   "source": [
    "## Homework 01"
   ]
  },
  {
   "cell_type": "markdown",
   "metadata": {},
   "source": [
    "### Exercise 1\n",
    "\n",
    "Let $Y$ be a random variable taking values in $\\{1,...,N\\}$ and suppose that any value is equally likely, i.e. that $P(Y=j)=\\frac{1}{N}$. \n",
    "\n",
    "Knowing that $\\sum_{j=1}^N j = \\frac{N(N+1)}{2}$, show that $\\mathbb{E}(Y)=\\frac{N+1}{2}$."
   ]
  },
  {
   "cell_type": "markdown",
   "metadata": {},
   "source": [
    "#### Proposed solution: \n",
    "\n",
    "$\\mathbb{E}(Y) = \\sum_{i=1}^{N}i\\cdot P(Y=i) = \\sum_{i=1}^{N}i\\cdot \\frac{1}{N} = \\frac{1}{N}\\cdot \\frac{N(N+1)}{2} = \\frac{N+1}{2}$"
   ]
  },
  {
   "cell_type": "markdown",
   "metadata": {},
   "source": [
    "### Exercise 2\n",
    "Prove that $\\mathbb{E}(X)=\\mu$ for $X\\sim\\mathcal{N}(\\mu,\\sigma^2)$."
   ]
  },
  {
   "cell_type": "markdown",
   "metadata": {},
   "source": [
    "#### Proposed solution: \n",
    "\n",
    "for a Gaussian distribution $\\mathbb{E}(X) = \\int_{\\mathbb{R}} x\\cdot \\frac{e^{-\\frac{(X-\\mu)^2}{2\\sigma^2}}}{\\sqrt{2\\pi \\sigma^2}}dx$\n",
    "\n",
    "\n",
    "perform a substitution $Z = \\frac{X-\\mu}{\\sigma}$ in $\\mathbb{E}(X)$, so that $x = \\mu + \\sigma\\cdot z$ hence $dx = \\sigma\\cdot dz \\leftrightarrow dz = \\frac{dx}{\\sigma}$\n",
    "\n",
    "so we get $\\mathbb{E}(X) = \\frac{\\sigma}{\\sqrt{2\\pi \\sigma^2}} \\int_{\\mathbb{R}}((\\mu +\\sigma z)e^{-\\frac{z^2}{2}})dz = \\frac{\\sigma}{\\sqrt{2\\pi \\sigma^2}} [\\int_{\\mathbb{R}}(\\mu e^{-\\frac{z^2}{2}})dz+ \\int_{\\mathbb{R}}(\\sigma z e^{-\\frac{z^2}{2}})] = \\frac{\\sigma}{\\sqrt{2\\pi}\\sigma}\\mu \\sqrt{2\\pi} = \\mu$\n",
    "\n",
    "considering the Gauss integral $\\int_{-\\infty}^{\\infty}e^{-z^2}dz = \\sqrt{\\pi}$ and the fact that $\\int_{-\\infty}^{\\infty}z\\cdot e^{-\\frac{z^2}{2}}dz = [-e^{-\\frac{z^2}{2}}]_{-\\infty}^{\\infty} = 0$"
   ]
  },
  {
   "cell_type": "markdown",
   "metadata": {},
   "source": [
    "### Exercise 3\n",
    "Let $X$ and $Y$ have discrete joint distribution\n",
    "$$\n",
    "p(x,y) = \n",
    "\\begin{cases}\n",
    "\\frac{1}{30} (x+y) & \\text{for } x = 0,1,2 \\text{ and } y=0,1,2,3\\\\\n",
    "0 & \\text{otherwise}\n",
    "\\end{cases}\n",
    "$$\n",
    "\n",
    "Are $X$ and $Y$ independent?"
   ]
  },
  {
   "cell_type": "markdown",
   "metadata": {},
   "source": [
    "#### Proposed solution: \n",
    "\n",
    "consider the marginal probability of X: $p(x) = \\sum_{y=0}^{3}p(x,y) = \\sum_{y=0}^{3} \\frac{1}{30}(x+y) = \\frac{1}{30}(x + 6)$ for x = 0,1,2; 0 otherwise\n",
    "\n",
    "consider the marginal probability of Y: $p(y) = \\sum_{x=0}^{2}p(x,y) = \\sum_{x=0}^{2} \\frac{1}{30}(x+y) = \\frac{1}{30}(y + 3)$ for y = 0,1,2,3; 0 otherwise\n",
    "\n",
    "From the previous computation $p(x,y)\\neq p(x)p(y)$, hence X and Y are not independent."
   ]
  },
  {
   "cell_type": "markdown",
   "metadata": {},
   "source": [
    "### Exercise 4\n",
    "\n",
    "Let $X$ and $Y$ be two continuos random variables with joint probability density\n",
    "\n",
    "$$\n",
    "f(x,y) = \n",
    "\\begin{cases}\n",
    "24xy & \\text{for } 0<x<1,0<y<1,x+y<1\\\\\n",
    "0 & \\text{otherwise}\n",
    "\\end{cases}\n",
    "$$\n",
    "\n",
    "Find\n",
    "1. the marginal density of Y;\n",
    "2. the conditional density of $X$ given $Y=1/2$.\n"
   ]
  },
  {
   "cell_type": "markdown",
   "metadata": {},
   "source": [
    "#### Proposed solution: \n",
    "\n",
    "1. the marginal density of $Y$ is: \n",
    "\n",
    "$f(y) = \\int_{0}^{1}(24xy)dx = 24y[\\frac{x^2}{2}]_{0}^{1} = 12y$\n",
    "\n",
    "2. the conditional density of $X$ given $Y=\\frac{1}{2}$: \n",
    "\n",
    "$f(x|y=\\frac{1}{2}) = \\frac{f(x,y)}{f(y=\\frac{1}{2})} = \\frac{24xy}{12y} = \\frac{x}{2}$"
   ]
  },
  {
   "cell_type": "markdown",
   "metadata": {},
   "source": [
    "### Exercise 5\n",
    "\n",
    "Let the joint distribution of $X$ and $Y$ be \n",
    "\n",
    "$$f(X,Y) = \\frac{\\Gamma(\\alpha_1+\\alpha_2+\\alpha_3)}{\\Gamma(\\alpha_1)\\Gamma(\\alpha_2)\\Gamma(\\alpha_3)}x^{\\alpha_1-1}y^{\\alpha_2-1}(1-x-y)^{\\alpha_3-1}.$$ \n",
    "\n",
    "Suppose that $0<x<1,0<y<1,x+y<1$ and prove that the marginal distribution of $X$ is a $\\text{Beta}(\\alpha_1,\\alpha_2+\\alpha_3)$."
   ]
  },
  {
   "cell_type": "markdown",
   "metadata": {},
   "source": [
    "#### Proposed solution: \n",
    "\n",
    "the marginal density of $X$ is given by:\n",
    "\n",
    "$f(x) = \\frac{\\Gamma(\\alpha_1+\\alpha_2+\\alpha_3)}{\\Gamma(\\alpha_1)\\Gamma(\\alpha_2)\\Gamma(\\alpha_3)}x^{\\alpha_1-1}\\int_{0}^{1-x}y^{\\alpha_2-1}(1-x-y)^{\\alpha_3-1}dy$\n",
    "\n",
    "perform a substitution $y = (1-x)u$ so that $dy = (1-x)du$ and consider:\n",
    "\n",
    "$\\int_{0}^{1-x}y^{\\alpha_2-1}(1-x-y)^{\\alpha_3-1}dy = \\\\ =\\int_{0}^{1}((1-x)u)^{\\alpha_2-1}(1-x-(1-x)u)^{\\alpha_3-1}du = (1-x)^{\\alpha_2 +\\alpha_3 -1 }\\cdot \\int_{0}^{1}u^{\\alpha_2-1}(1-u)^{\\alpha_3-1}du$\n",
    "\n",
    "from the definition of the distribution $\\text{Beta}(\\alpha_2, \\alpha_3) = \\frac{1}{B(\\alpha_2, \\alpha_3)}x^{\\alpha_2 -1}(1-x)^{\\alpha_3 -1}$, since $\\int_{0}^{1}\\frac{1}{B(\\alpha_2, \\alpha_3)}x^{\\alpha_2 -1}(1-x)^{\\alpha_3 -1}dx = 1$ we get that: $\\int_{0}^{1} x^{\\alpha_2 -1}(1-x)^{\\alpha_3 -1}dx = B(\\alpha_2, \\alpha_3) = \\frac{\\Gamma(\\alpha_2) \\Gamma(\\alpha_3)}{\\Gamma(\\alpha_2 + \\alpha_3)}$\n",
    "\n",
    "going back to the integral \n",
    "\n",
    "$(1-x)^{\\alpha_2 +\\alpha_3 -1 }\\cdot \\int_{0}^{1}u^{\\alpha_2-1}(1-u)^{\\alpha_3-1}du = (1-x)^{\\alpha_2 +\\alpha_3 -1 } \\frac{\\Gamma(\\alpha_2) \\Gamma(\\alpha_3)}{\\Gamma(\\alpha_2 + \\alpha_3)}$\n",
    "\n",
    "thus we have proved \n",
    "\n",
    "$f(x) = \\frac{\\Gamma(\\alpha_1+\\alpha_2+\\alpha_3)}{\\Gamma(\\alpha_1)\\Gamma(\\alpha_2)\\Gamma(\\alpha_3)}x^{\\alpha_1-1} (1-x)^{\\alpha_2 +\\alpha_3 -1 }\\cdot \\frac{\\Gamma(\\alpha_2) \\Gamma(\\alpha_3)}{\\Gamma(\\alpha_2 + \\alpha_3)} = \\frac{\\Gamma(\\alpha_1 + \\alpha_2 + \\alpha_3)}{\\Gamma(\\alpha_1) \\Gamma(\\alpha_2 + \\alpha_3)} x^{\\alpha_1-1} (1-x)^{\\alpha_2 +\\alpha_3 -1 } = \\text{Beta}(\\alpha_1,\\alpha_2+\\alpha_3)$"
   ]
  }
 ],
 "metadata": {
  "kernelspec": {
   "display_name": "Python 3",
   "language": "python",
   "name": "python3"
  },
  "language_info": {
   "codemirror_mode": {
    "name": "ipython",
    "version": 3
   },
   "file_extension": ".py",
   "mimetype": "text/x-python",
   "name": "python",
   "nbconvert_exporter": "python",
   "pygments_lexer": "ipython3",
   "version": "3.7.3"
  }
 },
 "nbformat": 4,
 "nbformat_minor": 2
}
